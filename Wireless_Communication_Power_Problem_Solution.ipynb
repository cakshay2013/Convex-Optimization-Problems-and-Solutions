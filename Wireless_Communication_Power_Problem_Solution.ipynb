{
  "nbformat": 4,
  "nbformat_minor": 0,
  "metadata": {
    "colab": {
      "name": "Wireless Communication Power Problem Solution",
      "provenance": [],
      "collapsed_sections": [],
      "authorship_tag": "ABX9TyPICDdkRHY1wBi2iUR6Tga7",
      "include_colab_link": true
    },
    "kernelspec": {
      "display_name": "Python 3",
      "name": "python3"
    },
    "language_info": {
      "name": "python"
    }
  },
  "cells": [
    {
      "cell_type": "markdown",
      "metadata": {
        "id": "view-in-github",
        "colab_type": "text"
      },
      "source": [
        "<a href=\"https://colab.research.google.com/github/cakshay2013/Convex-Optimization-Problems-and-Solutions/blob/main/Wireless_Communication_Power_Problem_Solution.ipynb\" target=\"_parent\"><img src=\"https://colab.research.google.com/assets/colab-badge.svg\" alt=\"Open In Colab\"/></a>"
      ]
    },
    {
      "cell_type": "code",
      "metadata": {
        "colab": {
          "base_uri": "https://localhost:8080/"
        },
        "id": "JgGp-TSpemPH",
        "outputId": "8c03d21d-8d93-4e45-87b6-2080c5794340"
      },
      "source": [
        "import numpy as np\n",
        "import cvxpy as cp\n",
        " \n",
        "p = cp.Variable(5)\n",
        " \n",
        "G = np.array([[1.0, 0.1, 0.2, 0.1, 0.0], \n",
        "              [0.1, 1.0, 0.1, 0.1, 0.0], \n",
        "              [0.2, 0.1, 2.0, 0.2, 0.2], \n",
        "              [0.1, 0.1, 0.2, 1.0, 0.1], \n",
        "              [0.0, 0.0, 0.2, 0.1, 1.0]])\n",
        " \n",
        "G1 = [1, 1, 0, 0, 0]\n",
        "G2 = [0, 0, 1, 1, 1]\n",
        " \n",
        "I = np.empty(5)\n",
        " \n",
        "I = G@p\n",
        " \n",
        "for i in range(0,4):\n",
        "  I[i] == I[i] - G[i][i]*p[i]\n",
        " \n",
        "INSR = np.empty(5)\n",
        " \n",
        "for i in range(0,4):\n",
        "  INSR[i] == (I[i]+0.5)/(G[i][i]*p[i])\n",
        " \n",
        "for i in range(0,4):\n",
        "  obj = cp.max(INSR[i])\n",
        " \n",
        "objective = cp.Maximize(obj)\n",
        " \n",
        "constraints = [p>=0, p<=3, G1@p<=4, G2@p<=6, G@p<=5]\n",
        " \n",
        "prob = cp.Problem(objective, constraints)\n",
        "prob.solve()\n",
        " \n",
        "for i in range(0,4):\n",
        "  SINR_max = 1/cp.max((G[i][i]*p[i])/(I[i]+0.5))\n",
        " \n",
        "print(\"Optimum powers p:\\n\", p.value)\n",
        "print(\"Max SINR value:\\n\", SINR_max.value)"
      ],
      "execution_count": null,
      "outputs": [
        {
          "output_type": "stream",
          "text": [
            "Optimum powers p:\n",
            " [1.7424819  1.7870542  1.36156945 1.96835381 1.95634806]\n",
            "Max SINR value:\n",
            " 1.6710695480784874\n"
          ],
          "name": "stdout"
        }
      ]
    }
  ]
}