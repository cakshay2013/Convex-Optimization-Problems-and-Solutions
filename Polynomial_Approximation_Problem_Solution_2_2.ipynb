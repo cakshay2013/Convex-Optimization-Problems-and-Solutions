{
  "nbformat": 4,
  "nbformat_minor": 0,
  "metadata": {
    "colab": {
      "name": "Polynomial Approximation Problem Solution 2/2",
      "provenance": [],
      "collapsed_sections": [],
      "authorship_tag": "ABX9TyPGEyCnfOBRpk5ffAJY8+Pw",
      "include_colab_link": true
    },
    "kernelspec": {
      "name": "python3",
      "display_name": "Python 3"
    }
  },
  "cells": [
    {
      "cell_type": "markdown",
      "metadata": {
        "id": "view-in-github",
        "colab_type": "text"
      },
      "source": [
        "<a href=\"https://colab.research.google.com/github/cakshay2013/Convex-Optimization-Problems-and-Solutions/blob/main/Polynomial_Approximation_Problem_Solution_2_2.ipynb\" target=\"_parent\"><img src=\"https://colab.research.google.com/assets/colab-badge.svg\" alt=\"Open In Colab\"/></a>"
      ]
    },
    {
      "cell_type": "code",
      "metadata": {
        "colab": {
          "base_uri": "https://localhost:8080/",
          "height": 486
        },
        "id": "2QwoUpT1nQZx",
        "outputId": "8d1f5551-5694-4e96-ec23-fc339d1817cf"
      },
      "source": [
        "import numpy as np\n",
        "import math as m\n",
        "import matplotlib.pyplot as plt\n",
        "import cvxpy as cp\n",
        "N=10\n",
        " \n",
        "#least squares objective fcn\n",
        "n1=5\n",
        "\n",
        "a1 = cp.Variable(n1)\n",
        "x = np.zeros(2*N+1)\n",
        "x[0] = -1\n",
        "for i in range(0, 2*N-1):\n",
        "  x[i+1] = x[i] + 1/N\n",
        "\n",
        "X1 = np.zeros([n1,2*N+1])\n",
        "for i in range(0, n1-1):\n",
        "  for j in range(0, 2*N):\n",
        "    X1[i,j] = np.power(x[j], i)\n",
        "\n",
        "# Objective fcn\n",
        "#c1=cp.square(cp.norm((np.power(x, n1))- a1@X1))\n",
        "c1=cp.norm((np.power(x, n1))- a1@X1,1)\n",
        "objective = cp.Minimize(c1)\n",
        " \n",
        "#Constraints\n",
        "constraints = []\n",
        "prob = cp.Problem(objective, constraints)\n",
        "prob.solve()\n",
        " \n",
        "#Answers\n",
        "#print(\"x:\", x)\n",
        "#print(\"X1:\", X1)\n",
        "print(\"Optimal polynomial coefficients a1:\", a1.value)\n",
        "print(\"Optimum cost function value c1:\",c1.value)\n",
        " \n",
        "n2=10\n",
        "\n",
        "a2 = cp.Variable(n2)\n",
        "X2 = np.empty([n2,2*N+1])\n",
        "for i in range(0, n2-1):\n",
        "  for j in range(0, 2*N):\n",
        "    X2[i,j] = np.power(x[j], i)\n",
        " \n",
        "#Objective fcn\n",
        "#c2=cp.square(cp.norm((np.power(x, n2))- a2@X2))\n",
        "c2=cp.norm((np.power(x, n2))- a2@X2,1)\n",
        "objective = cp.Minimize(c2)\n",
        " \n",
        "#Constraints\n",
        "constraints = []\n",
        "prob = cp.Problem(objective, constraints)\n",
        "prob.solve()\n",
        " \n",
        "#Answers\n",
        "#print(\"X2:\", X2)\n",
        "print(\"Optimal polynomial coefficients a2:\", a2.value)\n",
        "print(\"Optimum cost function value c2:\",c2.value)\n",
        " \n",
        "n3=20\n",
        "\n",
        "a3 = cp.Variable(n3)\n",
        "X3 = np.empty([n3,2*N+1])\n",
        "for i in range(0, n3-1):\n",
        "  for j in range(0, 2*N):\n",
        "    X3[i,j] = np.power(x[j], i)\n",
        " \n",
        "#Objective fcn\n",
        "#c3=cp.square(cp.norm((np.power(x, n3))- a3@X3))\n",
        "c3=cp.norm((np.power(x, n3))- a3@X3,1)\n",
        "objective = cp.Minimize(c3)\n",
        " \n",
        "#Constraints\n",
        "constraints = []\n",
        "prob = cp.Problem(objective, constraints)\n",
        "prob.solve()\n",
        " \n",
        "#Answers\n",
        "#print(\"X3:\", X3)\n",
        "print(\"Optimal polynomial coefficients a3:\", a3.value)\n",
        "print(\"Optimum cost function value c3:\",c3.value)\n",
        " \n",
        "n = [n1,n2,n3]\n",
        "c = [c1.value,c2.value,c3.value]\n",
        "#c = np.reshape(c, (3,1))\n",
        "\n",
        "plt.plot(n,c)\n",
        "plt.xlabel('x - axis: n') \n",
        "plt.ylabel('y - axis: optimal cost function values') \n",
        "plt.title('optimal cost function values vs n') \n",
        "plt.show()"
      ],
      "execution_count": 5,
      "outputs": [
        {
          "output_type": "stream",
          "name": "stdout",
          "text": [
            "Optimal polynomial coefficients a1: [ 0.018  -0.1825 -0.072   0.98    0.    ]\n",
            "Optimum cost function value c1: 0.6277800000062301\n",
            "Optimal polynomial coefficients a2: [-0.00627968 -0.01247122  0.07459316  0.07868951 -0.12856083 -0.0956841\n",
            " -0.58539364  0.00493601  1.62146539  0.01311829]\n",
            "Optimum cost function value c2: 0.04417411513961348\n",
            "Optimal polynomial coefficients a3: [-1.99620058e-08 -6.64213910e-08  8.18326082e-06  1.77273520e-05\n",
            " -5.39794074e-04 -4.52398069e-04  1.20097221e-02  4.67065758e-03\n",
            " -1.71136961e+00 -2.48354487e-02  7.30912472e-01  7.36724462e-02\n",
            " -2.47204901e+00 -1.22543470e-01  5.00194913e+00  1.06373708e-01\n",
            " -5.93056779e+00 -3.73541402e-02  3.78441280e+00  1.58478293e+00]\n",
            "Optimum cost function value c3: 1.9614235432829888e-07\n"
          ]
        },
        {
          "output_type": "display_data",
          "data": {
            "text/plain": [
              "<Figure size 432x288 with 1 Axes>"
            ],
            "image/png": "[encoded data removed]"
          },
          "metadata": {
            "needs_background": "light"
          }
        }
      ]
    }
  ]
}