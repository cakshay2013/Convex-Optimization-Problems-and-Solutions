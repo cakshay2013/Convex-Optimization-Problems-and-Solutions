{
  "nbformat": 4,
  "nbformat_minor": 0,
  "metadata": {
    "colab": {
      "name": "Currency Exchange Problem Solution",
      "provenance": [],
      "collapsed_sections": [],
      "authorship_tag": "ABX9TyNi2mubfE016JkVFQtdlqGE",
      "include_colab_link": true
    },
    "kernelspec": {
      "name": "python3",
      "display_name": "Python 3"
    }
  },
  "cells": [
    {
      "cell_type": "markdown",
      "metadata": {
        "id": "view-in-github",
        "colab_type": "text"
      },
      "source": [
        "<a href=\"https://colab.research.google.com/github/cakshay2013/Convex-Optimization-Problems-and-Solutions/blob/main/Currency_Exchange_Problem_Solution.ipynb\" target=\"_parent\"><img src=\"https://colab.research.google.com/assets/colab-badge.svg\" alt=\"Open In Colab\"/></a>"
      ]
    },
    {
      "cell_type": "code",
      "metadata": {
        "id": "eY-1orkiUW-G",
        "colab": {
          "base_uri": "https://localhost:8080/"
        },
        "outputId": "7436c00b-b208-4d31-d892-fd2b94cc2c85"
      },
      "source": [
        "import numpy as np\n",
        "import cvxpy as cp\n",
        " \n",
        "# Exchange rate data.\n",
        "tickers = [\"USD\", \"EUR\", \"GBP\", \"CAD\", \"JPY\", \"CNY\", \"RUB\", \"MXN\", \"INR\", \"BRL\"]\n",
        "n = len(tickers)\n",
        "F = np.zeros((n, n))\n",
        "# USD\n",
        "data = ([1.0, 0.87, 0.76, 1.31, 108.90, 6.72, 65.45, 19.11, 71.13, 3.69],\n",
        "# EUR\n",
        "[1.0, 0.88, 1.51, 125.15, 7.72, 75.23, 21.96, 81.85, 4.24],\n",
        "# GBP\n",
        "[1.0, 1.72, 142.94, 8.82, 85.90, 25.08, 93.50, 4.84],\n",
        "# CAD\n",
        "[1.0, 82.93, 5.11, 49.82, 14.54, 54.23, 2.81],\n",
        "# JPY\n",
        "[1.0, 0.062, 0.60, 0.18, 0.65, 0.034],\n",
        "# CNY\n",
        "[1.0, 9.74, 2.85, 10.61, 0.55],\n",
        "# RUB\n",
        "[1.0, 0.29, 1.09, 0.056],\n",
        "# MXN\n",
        "[1.0, 3.73, 0.19],\n",
        "# INR\n",
        "[1.0, 0.052],\n",
        "# BRL\n",
        "[1.0])\n",
        "for i in range(n):\n",
        "    F[i,i:] = data[i]\n",
        "for j in range(n):\n",
        "    for i in range(j+1,n):\n",
        "        F[i,j] = 1.035/F[j,i]\n",
        "        \n",
        "# Initial and final portfolios.\n",
        "c_req = np.arange(1,n+1)\n",
        "c_req = 1e4*c_req/c_req.sum()\n",
        "c_init = c_req[::-1]\n",
        " \n",
        "#Defining variables\n",
        "X = cp.Variable(shape =(n,n))\n",
        " \n",
        "#Defining problem\n",
        "#Objective\n",
        "#c_final = c_init - np.sum(X, axis = 1) + np.sum(X@np.reciprocal(F), axis = 1)\n",
        "#c_init+X@(np.reciprocal(F))-np.transpose(X)@np.transpose((np.reciprocal(F)))\n",
        "    \n",
        "#objective = cp.Minimize((c_init-c_final)@(np.transpose(np.sqrt(F[:,0]@np.reciprocal(F[0,:])))))\n",
        " \n",
        "#Constraints\n",
        "#constraints = [X>=0, diag(X)==0, np.sum(X, axis=0)<=c_init, c_final>=c_req]\n",
        "#prob = cp.problem(objective, constraints)\n",
        "#prob.solve()\n",
        "print(\"c_init\", c_init.shape)\n",
        "#print(\"c_final\", c_final.shape)\n",
        "print(\"F\", F.shape)\n",
        "#print(\"Optimal exchanges:\", X)\n",
        "#print(\"Exchange rates:\", F)\n",
        "#print(\"Units of currencies after exchanges:\", c_final)"
      ],
      "execution_count": 1,
      "outputs": [
        {
          "output_type": "stream",
          "name": "stdout",
          "text": [
            "c_init (10,)\n",
            "F (10, 10)\n"
          ]
        }
      ]
    }
  ]
}