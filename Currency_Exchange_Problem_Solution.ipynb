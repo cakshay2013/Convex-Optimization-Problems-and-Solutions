{
  "nbformat": 4,
  "nbformat_minor": 0,
  "metadata": {
    "colab": {
      "provenance": [],
      "authorship_tag": "ABX9TyMtSV3AC9Iri3kHlKvlE5iM",
      "include_colab_link": true
    },
    "kernelspec": {
      "name": "python3",
      "display_name": "Python 3"
    }
  },
  "cells": [
    {
      "cell_type": "markdown",
      "metadata": {
        "id": "view-in-github",
        "colab_type": "text"
      },
      "source": [
        "<a href=\"https://colab.research.google.com/github/cakshay2013/Convex-Optimization-Problems-and-Solutions/blob/main/Currency_Exchange_Problem_Solution.ipynb\" target=\"_parent\"><img src=\"https://colab.research.google.com/assets/colab-badge.svg\" alt=\"Open In Colab\"/></a>"
      ]
    },
    {
      "cell_type": "code",
      "metadata": {
        "id": "eY-1orkiUW-G",
        "colab": {
          "base_uri": "https://localhost:8080/"
        },
        "outputId": "67a92849-8d3e-4af2-8247-4ef03f5c7831"
      },
      "source": [
        "import numpy as np\n",
        "import cvxpy as cp\n",
        " \n",
        "# Exchange rate data.\n",
        "tickers = [\"USD\", \"EUR\", \"GBP\", \"CAD\", \"JPY\", \"CNY\", \"RUB\", \"MXN\", \"INR\", \"BRL\"]\n",
        "n = len(tickers)\n",
        "F = np.zeros((n, n))\n",
        "# USD\n",
        "data = ([1.0, 0.87, 0.76, 1.31, 108.90, 6.72, 65.45, 19.11, 71.13, 3.69],\n",
        "# EUR\n",
        "[1.0, 0.88, 1.51, 125.15, 7.72, 75.23, 21.96, 81.85, 4.24],\n",
        "# GBP\n",
        "[1.0, 1.72, 142.94, 8.82, 85.90, 25.08, 93.50, 4.84],\n",
        "# CAD\n",
        "[1.0, 82.93, 5.11, 49.82, 14.54, 54.23, 2.81],\n",
        "# JPY\n",
        "[1.0, 0.062, 0.60, 0.18, 0.65, 0.034],\n",
        "# CNY\n",
        "[1.0, 9.74, 2.85, 10.61, 0.55],\n",
        "# RUB\n",
        "[1.0, 0.29, 1.09, 0.056],\n",
        "# MXN\n",
        "[1.0, 3.73, 0.19],\n",
        "# INR\n",
        "[1.0, 0.052],\n",
        "# BRL\n",
        "[1.0])\n",
        "for i in range(n):\n",
        "    F[i,i:] = data[i]\n",
        "for j in range(n):\n",
        "    for i in range(j+1,n):\n",
        "        F[i,j] = 1.035/F[j,i]\n",
        "        \n",
        "# Initial and final portfolios.\n",
        "c_req = np.arange(1,n+1)\n",
        "c_req = 1e4*c_req/c_req.sum()\n",
        "c_init = c_req[::-1]\n",
        " \n",
        "#Defining variables\n",
        "X = cp.Variable((n,n))\n",
        " \n",
        "#Defining problem\n",
        "\n",
        "c_final = c_init - cp.sum(cp.transpose(X@np.reciprocal(F)), axis = 1) + cp.sum(X@np.reciprocal(F), axis = 1)\n",
        "\n",
        "#Objective\n",
        "curr_exchange_cost = (c_init-c_final)@(np.transpose(np.sqrt(F[:,0]*np.reciprocal(F[0,:]))))\n",
        "objective = cp.Minimize(curr_exchange_cost)\n",
        " \n",
        "#Constraints\n",
        "constraints = [X>=0, cp.diag(X)==0, cp.sum(X, axis=0)<=c_init, c_final>=c_req]\n",
        "#for i in range(n):\n",
        "#        constraints += [c_final[i] >= c_req[i]]\n",
        "prob = cp.Problem(objective, constraints)\n",
        "prob.solve()\n",
        "print(\"Initial currency holdings c_init\", c_init)\n",
        "print(\"Final currency holdings c_final\", c_final.value)\n",
        "#print(\"F\", F.shape)\n",
        "print(\"Optimal exchanges:\", X.value)\n",
        "print(\"Optimal cost of exchange:\", curr_exchange_cost.value)\n",
        "#print(\"Exchange rates:\", F)\n",
        "#print(\"Units of currencies after exchanges:\", c_final.value)"
      ],
      "execution_count": 7,
      "outputs": [
        {
          "output_type": "stream",
          "name": "stdout",
          "text": [
            "Initial currency holdings c_init [1818.18181818 1636.36363636 1454.54545455 1272.72727273 1090.90909091\n",
            "  909.09090909  727.27272727  545.45454545  363.63636364  181.81818182]\n",
            "Final currency holdings c_final [ 181.81818182  363.63636365  545.45454555  727.27272726  909.09090908\n",
            " 1090.90909089 1272.72727271 1454.54545453 1636.36363635 1818.18181817]\n",
            "Optimal exchanges: [[1.90364108e-12 2.19477594e+02 1.88067381e+02 1.73050468e+02\n",
            "  2.06334878e+02 1.44149474e+02 1.36145203e+02 8.91570166e+01\n",
            "  6.50908529e+01 2.13617580e+01]\n",
            " [2.61131756e+02 1.99777408e-12 1.92092379e+02 1.77479071e+02\n",
            "  2.41923334e+02 1.52917309e+02 1.55449256e+02 9.65338171e+01\n",
            "  7.35054139e+01 2.19839895e+01]\n",
            " [2.69902385e+02 2.32028285e+02 2.09412881e-12 1.83231340e+02\n",
            "  2.81822573e+02 1.64094275e+02 1.74946487e+02 1.05392083e+02\n",
            "  8.22525012e+01 2.41003091e+01]\n",
            " [2.44031499e+02 2.12272290e+02 1.82685255e+02 1.76547296e-12\n",
            "  1.52242954e+02 1.30438016e+02 1.05314958e+02 7.71698017e+01\n",
            "  5.12063284e+01 2.09381327e+01]\n",
            " [4.08394338e+01 4.75949576e+01 5.27750375e+01 3.31986561e+01\n",
            "  2.79822240e-13 6.56235204e+00 6.22350560e-02 2.07831878e+00\n",
            "  6.78552245e-01 7.27998463e+00]\n",
            " [2.00853663e+02 1.81023395e+02 1.60258794e+02 1.39573141e+02\n",
            "  2.05174225e+01 1.04969386e-12 2.16618812e+01 3.59504474e+01\n",
            "  1.35698105e+01 2.02562747e+01]\n",
            " [8.37228080e+01 8.81615976e+01 8.90332341e+01 6.38289333e+01\n",
            "  9.86176280e-02 1.69160841e+01 3.37015454e-13 6.08715481e+00\n",
            "  1.94543847e+00 1.24746701e+01]\n",
            " [1.55079713e+02 1.47415129e+02 1.36305060e+02 1.11015074e+02\n",
            "  4.63545565e+00 4.49113947e+01 7.41208055e+00 6.18157891e-13\n",
            "  5.77221182e+00 1.79607507e+01]\n",
            " [9.22781466e+01 9.54913317e+01 9.50588335e+01 6.93327181e+01\n",
            "  6.03602857e-01 1.90829112e+01 2.07991005e+00 6.86606780e+00\n",
            "  3.22532836e-13 1.32693890e+01]\n",
            " [2.18348088e+02 1.93232417e+02 1.68729526e+02 1.50341849e+02\n",
            "  4.59225614e+01 9.65350442e+01 3.96267556e+01 4.88580300e+01\n",
            "  2.22539379e+01 1.33058545e-12]]\n",
            "Optimal cost of exchange: 4213.117272372418\n"
          ]
        }
      ]
    }
  ]
}