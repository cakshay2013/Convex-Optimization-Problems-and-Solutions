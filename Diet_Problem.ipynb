{
  "nbformat": 4,
  "nbformat_minor": 0,
  "metadata": {
    "colab": {
      "name": "Diet Problem",
      "provenance": [],
      "authorship_tag": "ABX9TyOyLu5abwdLrXxFrSSXnuM5",
      "include_colab_link": true
    },
    "kernelspec": {
      "name": "python3",
      "display_name": "Python 3"
    }
  },
  "cells": [
    {
      "cell_type": "markdown",
      "metadata": {
        "id": "view-in-github",
        "colab_type": "text"
      },
      "source": [
        "<a href=\"https://colab.research.google.com/github/cakshay2013/Convex-Optimization-Problems-and-Solutions/blob/main/Diet_Problem.ipynb\" target=\"_parent\"><img src=\"https://colab.research.google.com/assets/colab-badge.svg\" alt=\"Open In Colab\"/></a>"
      ]
    },
    {
      "cell_type": "code",
      "metadata": {
        "id": "Oyyecs37LsvZ",
        "colab": {
          "base_uri": "https://localhost:8080/"
        },
        "outputId": "6ecb1175-027f-405c-fb67-2030eeea31b1"
      },
      "source": [
        " import numpy as np\n",
        "import cvxpy as cp\n",
        "m=3 #no of food items\n",
        "n=1\n",
        "s=cp.Variable(m)\n",
        "cost=[0.18,0.23,0.05]\n",
        "vitA=[107,500,0]\n",
        "cal=[72,121,65]\n",
        " \n",
        "#problem def\n",
        "objective= cp.Minimize(cost@s)\n",
        "constraints=[s>=0,s<=10,vitA@s<=50000,vitA@s>=5000,cal@s<=2250,cal@s>=2000]\n",
        "prob=cp.Problem(objective, constraints)\n",
        "prob.solve()\n",
        "print(\"Optimal costs per servings:\",s.value)"
      ],
      "execution_count": 1,
      "outputs": [
        {
          "output_type": "stream",
          "name": "stdout",
          "text": [
            "Optimal costs per servings: [ 1.94444445 10.         10.        ]\n"
          ]
        }
      ]
    }
  ]
}