{
  "nbformat": 4,
  "nbformat_minor": 0,
  "metadata": {
    "colab": {
      "name": "Box Volume Problem Solution",
      "provenance": [],
      "collapsed_sections": [],
      "authorship_tag": "ABX9TyMew8ZbsAF3pSCpxVAVXn+b",
      "include_colab_link": true
    },
    "kernelspec": {
      "name": "python3",
      "display_name": "Python 3"
    },
    "language_info": {
      "name": "python"
    }
  },
  "cells": [
    {
      "cell_type": "markdown",
      "metadata": {
        "id": "view-in-github",
        "colab_type": "text"
      },
      "source": [
        "<a href=\"https://colab.research.google.com/github/cakshay2013/Convex-Optimization-Problems-and-Solutions/blob/main/Box_Volume_Problem_Solution.ipynb\" target=\"_parent\"><img src=\"https://colab.research.google.com/assets/colab-badge.svg\" alt=\"Open In Colab\"/></a>"
      ]
    },
    {
      "cell_type": "code",
      "metadata": {
        "id": "IMepBwjagwYU",
        "colab": {
          "base_uri": "https://localhost:8080/"
        },
        "outputId": "9d3277f1-a2f4-4c9a-9f98-21276da8e909"
      },
      "source": [
        "import cvxpy as cp\n",
        "import numpy as np\n",
        " \n",
        "y1 = cp.Variable(1)\n",
        "y2 = cp.Variable(1)\n",
        "y3 = cp.Variable(1)\n",
        " \n",
        "h = cp.exp(y1)\n",
        "w = cp.exp(y2)\n",
        "d = cp.exp(y3)\n",
        " \n",
        "objective = cp.Minimize(-1.0*(y1+y2+y3))\n",
        " \n",
        "constraints = [cp.exp(y1+y2)+cp.exp(y1+y3)<=100, \n",
        "               cp.exp(y2+y3)<=60, \n",
        "               cp.exp(y1-y2)<=1.2, \n",
        "            #   -1*cp.exp(y1-y2)<=-0.8, \n",
        "               cp.exp(y3-y2)<=1.2]\n",
        "            #   , -1*cp.exp(y3-y2)<=-0.8]\n",
        " \n",
        "prob = cp.Problem(objective, constraints)\n",
        "prob.solve()\n",
        " \n",
        "print(\"Optimal max volume:\\n\", (h*w*d).value)\n",
        "print(\"height h:\\n\", h.value)\n",
        "print(\"width w:\\n\", w.value)\n",
        "print(\"depth d:\\n\", d.value)"
      ],
      "execution_count": null,
      "outputs": [
        {
          "output_type": "stream",
          "name": "stdout",
          "text": [
            "Optimal max volume:\n",
            " [387.29823683]\n",
            "height h:\n",
            " [6.45497215]\n",
            "width w:\n",
            " [7.74592682]\n",
            "depth d:\n",
            " [7.74600472]\n"
          ]
        }
      ]
    }
  ]
}