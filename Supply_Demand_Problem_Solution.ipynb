{
  "nbformat": 4,
  "nbformat_minor": 0,
  "metadata": {
    "colab": {
      "name": "Supply Demand Problem Solution",
      "provenance": [],
      "collapsed_sections": [],
      "authorship_tag": "ABX9TyN1zbyNWrjIQh3xtOdAJPHI",
      "include_colab_link": true
    },
    "kernelspec": {
      "name": "python3",
      "display_name": "Python 3"
    }
  },
  "cells": [
    {
      "cell_type": "markdown",
      "metadata": {
        "id": "view-in-github",
        "colab_type": "text"
      },
      "source": [
        "<a href=\"https://colab.research.google.com/github/cakshay2013/Convex-Optimization-Problems-and-Solutions/blob/main/Supply_Demand_Problem_Solution.ipynb\" target=\"_parent\"><img src=\"https://colab.research.google.com/assets/colab-badge.svg\" alt=\"Open In Colab\"/></a>"
      ]
    },
    {
      "cell_type": "code",
      "metadata": {
        "id": "zA5w6Uyrb0HK",
        "colab": {
          "base_uri": "https://localhost:8080/"
        },
        "outputId": "72c81df6-495a-4712-e350-b2882ed4086e"
      },
      "source": [
        "import numpy as np\n",
        "import cvxpy as cp\n",
        "\n",
        "C = np.matrix([[8, 6, 10, 9, 8,], [9, 12, 13, 7, 5,], [14, 9, 16, 5, 2,]]).T\n",
        "\n",
        "D = np.matrix([[45, 20, 30, 30, 10,]]).T\n",
        "\n",
        "S = np.matrix([[40, 50, 45,]]).T\n",
        "\n",
        "X = cp.Variable((3,5))\n",
        "\n",
        "#Objective\n",
        "objective = cp.Minimize(cp.sum(X@C))\n",
        "\n",
        "#Constraints\n",
        "\n",
        "constraints = [cp.reshape((cp.sum(X.T, axis=0)), (3,1))<=S, cp.reshape((cp.sum(X, axis=0)), (5,1))>=D, X>=0]\n",
        "\n",
        "prob = cp.Problem(objective, constraints)\n",
        "prob.solve()\n",
        "\n",
        "#Answers\n",
        "print(\"Optimal units or supplies of goods:\", X.value)\n",
        "print(\"Optimal total cost:\", cp.sum(X@C).value)"
      ],
      "execution_count": null,
      "outputs": [
        {
          "output_type": "stream",
          "text": [
            "Optimal units or supplies of goods: [[13.39572896  5.98988991  8.83187234  8.790773    2.99173579]\n",
            " [16.59613372  7.33200974 11.1881498  11.21894706  3.66475967]\n",
            " [15.00813731  6.67810035  9.97997786  9.99027994  3.34350454]]\n",
            "Optimal total cost: 3884.9999999830547\n"
          ],
          "name": "stdout"
        }
      ]
    }
  ]
}