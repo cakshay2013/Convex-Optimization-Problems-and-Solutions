{
  "nbformat": 4,
  "nbformat_minor": 0,
  "metadata": {
    "colab": {
      "name": "Cover Production Problem Solution",
      "provenance": [],
      "collapsed_sections": [],
      "include_colab_link": true
    },
    "kernelspec": {
      "name": "python3",
      "display_name": "Python 3"
    }
  },
  "cells": [
    {
      "cell_type": "markdown",
      "metadata": {
        "id": "view-in-github",
        "colab_type": "text"
      },
      "source": [
        "<a href=\"https://colab.research.google.com/github/cakshay2013/Convex-Optimization-Problems-and-Solutions/blob/main/Cover_Production_Problem_Solution.ipynb\" target=\"_parent\"><img src=\"https://colab.research.google.com/assets/colab-badge.svg\" alt=\"Open In Colab\"/></a>"
      ]
    },
    {
      "cell_type": "code",
      "metadata": {
        "colab": {
          "base_uri": "https://localhost:8080/"
        },
        "id": "dtRTPNr89HbF",
        "outputId": "0f547918-79e6-45ee-ee0c-0a5a9e3ccce2"
      },
      "source": [
        "import numpy as np\n",
        "import cvxpy as cp\n",
        "\n",
        "Y = cp.Variable(3)\n",
        "\n",
        "#Data\n",
        "profit = [4, 10, 6]\n",
        "total = [1/6000, 1/3000, 1/5000]\n",
        "min = [5000, 4000, 0]\n",
        "max = [10000, 8000, 15000]\n",
        "demand = [40/1000, 210/1000, 45/1000]\n",
        "X = [[1/30000, 0, 0], [0, 1/15000, 0], [0, 0, 1/25000]]\n",
        "Z = [[40/30000, 0, 0], [0, 40/15000, 0], [0, 0, 40/25000]]\n",
        "\n",
        "#objective\n",
        "objective = cp.Maximize(profit@Y)\n",
        "\n",
        "constraints = [Y>=0, total@Y<=5, Y>=min, Y<=max, demand@Y<=6000]\n",
        "prob = cp.Problem(objective, constraints)\n",
        "prob.solve()\n",
        "\n",
        "#Answers\n",
        "print(\"Optimal maximum total profit:\",(profit@Y).value)\n",
        "print(\"No. of covers produced in a week (Y):\", Y.value)\n",
        "print(\"Proportion of time devoted for cover production daily (X):\", (X@Y).value)\n",
        "print(\"No. of hrs devoted for cover production in a week (Z):\", (Z@Y).value)"
      ],
      "execution_count": null,
      "outputs": [
        {
          "output_type": "stream",
          "text": [
            "Optimal maximum total profit: 144999.99997457126\n",
            "No. of covers produced in a week (Y): [5000.00001178 7927.07212907 7621.54643946]\n",
            "Proportion of time devoted for cover production daily (X): [0.16666667 0.52847148 0.30486186]\n",
            "No. of hrs devoted for cover production in a week (Z): [ 6.66666668 21.13885901 12.1944743 ]\n"
          ],
          "name": "stdout"
        }
      ]
    },
    {
      "cell_type": "code",
      "metadata": {
        "id": "Kk4rj0N82cIW"
      },
      "source": [
        ""
      ],
      "execution_count": null,
      "outputs": []
    }
  ]
}